{
 "cells": [
  {
   "cell_type": "markdown",
   "metadata": {},
   "source": [
    "Introduce tools that needed to conduct the regression analysis"
   ]
  },
  {
   "cell_type": "code",
   "execution_count": null,
   "metadata": {},
   "outputs": [],
   "source": [
    "import numpy as np\n",
    "import pandas as pd\n",
    "import matplotlib.pyplot as plt\n",
    "from sklearn.preprocessing import PolynomialFeatures\n",
    "from sklearn.linear_model import LinearRegression\n",
    "from sklearn.pipeline import make_pipeline\n",
    "from sklearn.linear_model import Lasso\n",
    "from sklearn.model_selection import train_test_split\n",
    "from sklearn.metrics import mean_squared_error, r2_score"
   ]
  },
  {
   "cell_type": "markdown",
   "metadata": {},
   "source": [
    "Prepare and load dataset used for linear regression"
   ]
  },
  {
   "cell_type": "code",
   "execution_count": null,
   "metadata": {},
   "outputs": [],
   "source": [
    "file_path = 'linear.xlsx'\n",
    "data = pd.read_excel(file_path)\n",
    "X = data['Year'].values.reshape(-1, 1) \n",
    "y = data['Population'].values  "
   ]
  },
  {
   "cell_type": "markdown",
   "metadata": {},
   "source": [
    "Build linear regression model and use the method of LOOCV to validate the model"
   ]
  },
  {
   "cell_type": "code",
   "execution_count": null,
   "metadata": {},
   "outputs": [],
   "source": [
    "loo = LeaveOneOut()\n",
    "intercepts = []\n",
    "slopes = []\n",
    "predictions = []\n",
    "actuals = []\n",
    "\n",
    "for train_index, test_index in loo.split(X):\n",
    "    X_train, X_test = X[train_index], X[test_index]\n",
    "    y_train, y_test = y[train_index], y[test_index]\n",
    "    \n",
    "    \n",
    "    model_loo = LinearRegression()\n",
    "    model_loo.fit(X_train, y_train)\n",
    "    intercepts.append(model_loo.intercept_)\n",
    "    slopes.append(model_loo.coef_[0])\n",
    "    y_pred = model_loo.predict(X_test)\n",
    "    predictions.append(y_pred[0])\n",
    "    actuals.append(y_test[0])\n",
    "\n",
    "average_intercept = np.mean(intercepts)\n",
    "average_slope = np.mean(slopes)\n",
    "mse_loo = mean_squared_error(actuals, predictions)"
   ]
  },
  {
   "cell_type": "markdown",
   "metadata": {},
   "source": [
    "Print the result and MSE"
   ]
  },
  {
   "cell_type": "code",
   "execution_count": null,
   "metadata": {},
   "outputs": [],
   "source": [
    "print(f\"average_intercept: {average_intercept}\")\n",
    "print(f\"average_slope: {average_slope}\")\n",
    "print(f\"LOOCV MSE: {mse_loo}\")\n"
   ]
  },
  {
   "cell_type": "markdown",
   "metadata": {},
   "source": [
    "After build one linear regression model, let's move on to build the LASSO model"
   ]
  },
  {
   "cell_type": "markdown",
   "metadata": {},
   "source": [
    "Prepare and load dataset used for LASSO regression. Divide training set and test set."
   ]
  },
  {
   "cell_type": "code",
   "execution_count": null,
   "metadata": {},
   "outputs": [],
   "source": [
    "file_path = 'linear.xlsx' \n",
    "data = pd.read_excel(file_path)\n",
    "X = data['Year'].values.reshape(-1, 1)  \n",
    "y = data['Population'].values          \n",
    "\n",
    "X_train, X_test, y_train, y_test = train_test_split(X, y, test_size=0.2, random_state=42)"
   ]
  },
  {
   "cell_type": "markdown",
   "metadata": {},
   "source": [
    "Start to build the LASSO regression model."
   ]
  },
  {
   "cell_type": "code",
   "execution_count": null,
   "metadata": {},
   "outputs": [],
   "source": [
    "lasso_model = Lasso(alpha=0.1) \n",
    "lasso_model.fit(X_train, y_train)\n",
    "y_pred = lasso_model.predict(X_test)\n",
    "mse = mean_squared_error(y_test, y_pred)\n",
    "r2 = r2_score(y_test, y_pred)\n"
   ]
  },
  {
   "cell_type": "markdown",
   "metadata": {},
   "source": [
    "Print the calculation result."
   ]
  },
  {
   "cell_type": "code",
   "execution_count": null,
   "metadata": {},
   "outputs": [],
   "source": [
    "print(f\"Intercept: {lasso_model.intercept_}\")\n",
    "print(f\"Coefficients: {lasso_model.coef_}\")\n",
    "print(f\"MSE: {mse}\")\n",
    "print(f\"R^2: {r2}\")"
   ]
  },
  {
   "cell_type": "markdown",
   "metadata": {},
   "source": [
    "After completing the establishment of the LASSO regression model, we began to establish polynomial models by DCDs, gender, and age."
   ]
  },
  {
   "cell_type": "markdown",
   "metadata": {},
   "source": [
    "Prepare dataset differentiated by DCDs."
   ]
  },
  {
   "cell_type": "code",
   "execution_count": null,
   "metadata": {},
   "outputs": [],
   "source": [
    "data = pd.read_excel('dcd_population.xlsx')\n",
    "districts = data['District Council district (DCD)'].unique()"
   ]
  },
  {
   "cell_type": "markdown",
   "metadata": {},
   "source": [
    "Try to build polynomial regression models with degree = 3. Print the result."
   ]
  },
  {
   "cell_type": "code",
   "execution_count": null,
   "metadata": {},
   "outputs": [],
   "source": [
    "degree = 3 \n",
    "models = {}\n",
    "mse_scores = {}\n",
    "\n",
    "for district in districts:\n",
    "    district_data = data[data['District Council district (DCD)'] == district]\n",
    "\n",
    "    X = district_data['Year'].values.reshape(-1, 1)\n",
    "    y = district_data['Total population'].values\n",
    "\n",
    "    polyreg = make_pipeline(PolynomialFeatures(degree), LinearRegression())\n",
    "    polyreg.fit(X, y)\n",
    "\n",
    "    y_pred = polyreg.predict(X)\n",
    "\n",
    "    mse = mean_squared_error(y, y_pred)\n",
    "    models[district] = polyreg\n",
    "    mse_scores[district] = mse\n",
    "\n",
    "    print(f'District: {district}')\n",
    "    print(f'Intercept: {polyreg.named_steps[\"linearregression\"].intercept_}')\n",
    "    print(f'Coefficients: {polyreg.named_steps[\"linearregression\"].coef_}')\n",
    "    print(f'MSE: {mse}\\n')"
   ]
  },
  {
   "cell_type": "markdown",
   "metadata": {},
   "source": [
    "Use the built models to predict data in 2025, 2028, and 2031."
   ]
  },
  {
   "cell_type": "code",
   "execution_count": null,
   "metadata": {},
   "outputs": [],
   "source": [
    "future_years = [2025, 2028, 2031]\n",
    "\n",
    "for district in models:\n",
    "    print(f\"Predictions for {district}:\")\n",
    "    \n",
    "    for year in future_years:\n",
    "        X_future = np.array([[year]])\n",
    "        \n",
    "        predicted_population = models[district].predict(X_future)\n",
    "        print(f\"Year {year}: Predicted population is {predicted_population[0]:.0f}\")\n",
    "        \n",
    "    print(\"\\n\") "
   ]
  },
  {
   "cell_type": "markdown",
   "metadata": {},
   "source": [
    "Build polynomial models by different genders in the same method. Print the result after calculation."
   ]
  },
  {
   "cell_type": "code",
   "execution_count": null,
   "metadata": {},
   "outputs": [],
   "source": [
    "data = pd.read_excel('gender.xlsx')\n",
    "districts = data['District Council district (DCD)'].unique()\n",
    "genders = data['Sex'].unique()\n",
    "degree = 3 \n",
    "models = {}\n",
    "mse_scores = {}\n",
    "\n",
    "for district in districts:\n",
    "    for gender in genders:\n",
    "        district_gender_data = data[(data['District Council district (DCD)'] == district) & (data['Sex'] == gender)]\n",
    "\n",
    "        X = district_gender_data['Year'].values.reshape(-1, 1)\n",
    "        y = district_gender_data['Population'].values\n",
    "\n",
    "        polyreg = make_pipeline(PolynomialFeatures(degree), LinearRegression())\n",
    "        polyreg.fit(X, y)\n",
    "\n",
    "        y_pred = polyreg.predict(X)\n",
    "\n",
    "        mse = mean_squared_error(y, y_pred)\n",
    "\n",
    "        models[(district, gender)] = polyreg\n",
    "        mse_scores[(district, gender)] = mse\n",
    "        \n",
    "        print(f'Gender: {gender}')\n",
    "        print(f'Intercept: {polyreg.named_steps[\"linearregression\"].intercept_}')\n",
    "        print(f'Coefficients: {polyreg.named_steps[\"linearregression\"].coef_}')\n",
    "        print(f'MSE: {mse}\\n')"
   ]
  },
  {
   "cell_type": "markdown",
   "metadata": {},
   "source": [
    "Use the built models to predict data in 2025, 2028, and 2031."
   ]
  },
  {
   "cell_type": "code",
   "execution_count": null,
   "metadata": {},
   "outputs": [],
   "source": [
    "prediction_years = np.array([2025, 2028, 2031]).reshape(-1, 1)\n",
    "predictions = {}\n",
    "\n",
    "for (district, gender), model in models.items():\n",
    "    predicted_population = model.predict(prediction_years)\n",
    "    predictions[(district, gender)] = predicted_population\n",
    "    print(f\"Predictions for {district} - {gender}:\")\n",
    "    for year, population in zip(prediction_years.flatten(), predicted_population):\n",
    "        print(f\"Year {year}: {population:.0f}\")\n",
    "    print(\"\\n\")"
   ]
  },
  {
   "cell_type": "markdown",
   "metadata": {},
   "source": [
    "Build polynomial models by different age groups in the same method. Print the result after calculation."
   ]
  },
  {
   "cell_type": "code",
   "execution_count": null,
   "metadata": {},
   "outputs": [],
   "source": [
    "data = pd.read_excel('age.xlsx')\n",
    "age_groups = ['0 - 14', '15 - 24', '25 - 34', '35 - 44', '45 - 54', '55 - 64', '65 and over']\n",
    "degree = 3 \n",
    "models = {}\n",
    "mse_scores = {}\n",
    "\n",
    "for age_group in age_groups:\n",
    "    X = data['Year'].values.reshape(-1, 1)\n",
    "    y = data[age_group].values\n",
    "    polyreg = make_pipeline(PolynomialFeatures(degree), LinearRegression())\n",
    "    polyreg.fit(X, y)\n",
    "    y_pred = polyreg.predict(X)\n",
    "    mse = mean_squared_error(y, y_pred)\n",
    "    models[age_group] = polyreg\n",
    "    mse_scores[age_group] = mse\n",
    "\n",
    "    print(f'Age Group: {age_group}')\n",
    "    print(f'Intercept: {polyreg.named_steps[\"linearregression\"].intercept_}')\n",
    "    print(f'Coefficients: {polyreg.named_steps[\"linearregression\"].coef_}')\n",
    "    print(f'MSE: {mse}\\n')"
   ]
  },
  {
   "cell_type": "markdown",
   "metadata": {},
   "source": [
    "Use the built models to predict data in 2025, 2028, and 2031."
   ]
  },
  {
   "cell_type": "code",
   "execution_count": null,
   "metadata": {},
   "outputs": [],
   "source": [
    "future_years = np.array([2025, 2028, 2031]).reshape(-1, 1)\n",
    "future_predictions = {}\n",
    "\n",
    "for age_group, model in models.items():\n",
    "    predicted_population = model.predict(future_years)\n",
    "    future_predictions[age_group] = predicted_population\n",
    "    print(f\"Predictions for Age Group: {age_group}\")\n",
    "    for year, population in zip(future_years.flatten(), predicted_population):\n",
    "        print(f\"Year {year}: {population:.2f}\")\n",
    "    print() "
   ]
  }
 ],
 "metadata": {
  "kernelspec": {
   "display_name": "csci2040",
   "language": "python",
   "name": "python3"
  },
  "language_info": {
   "codemirror_mode": {
    "name": "ipython",
    "version": 3
   },
   "file_extension": ".py",
   "mimetype": "text/x-python",
   "name": "python",
   "nbconvert_exporter": "python",
   "pygments_lexer": "ipython3",
   "version": "3.11.7"
  }
 },
 "nbformat": 4,
 "nbformat_minor": 2
}
