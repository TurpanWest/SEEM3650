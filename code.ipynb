{
 "cells": [
  {
   "cell_type": "code",
   "execution_count": 1,
   "metadata": {},
   "outputs": [
    {
     "name": "stdout",
     "output_type": "stream",
     "text": [
      "Test\n"
     ]
    }
   ],
   "source": [
    "print(\"Test\")"
   ]
  },
  {
   "cell_type": "code",
   "execution_count": 2,
   "metadata": {},
   "outputs": [
    {
     "name": "stdout",
     "output_type": "stream",
     "text": [
      "截距（Intercept）: -72364.51090523598\n",
      "系数（Coefficients）: [39.46759771]\n",
      "均方误差（MSE）: 1983.7146810726779\n",
      "决定系数（R^2）: 0.9635738869859667\n"
     ]
    }
   ],
   "source": [
    "import pandas as pd\n",
    "import numpy as np\n",
    "from sklearn.linear_model import Lasso\n",
    "from sklearn.model_selection import train_test_split\n",
    "from sklearn.metrics import mean_squared_error, r2_score\n",
    "\n",
    "# 加载数据\n",
    "file_path = 'linear.xlsx'  # 替换为你的文件路径\n",
    "data = pd.read_excel(file_path)\n",
    "\n",
    "# 准备数据\n",
    "X = data['Year'].values.reshape(-1, 1)  # 特征\n",
    "y = data['Population'].values           # 目标变量\n",
    "\n",
    "# 划分训练集和测试集\n",
    "X_train, X_test, y_train, y_test = train_test_split(X, y, test_size=0.2, random_state=42)\n",
    "\n",
    "# 创建 LASSO 回归模型\n",
    "lasso_model = Lasso(alpha=0.1)  # alpha 是 L1 惩罚的系数，可根据需要调整\n",
    "lasso_model.fit(X_train, y_train)\n",
    "\n",
    "# 进行预测\n",
    "y_pred = lasso_model.predict(X_test)\n",
    "\n",
    "# 评估模型\n",
    "mse = mean_squared_error(y_test, y_pred)\n",
    "r2 = r2_score(y_test, y_pred)\n",
    "\n",
    "# 输出结果\n",
    "print(f\"截距（Intercept）: {lasso_model.intercept_}\")\n",
    "print(f\"系数（Coefficients）: {lasso_model.coef_}\")\n",
    "print(f\"均方误差（MSE）: {mse}\")\n",
    "print(f\"决定系数（R^2）: {r2}\")\n"
   ]
  },
  {
   "cell_type": "markdown",
   "metadata": {},
   "source": [
    "#First\n",
    "This is a test file"
   ]
  }
 ],
 "metadata": {
  "kernelspec": {
   "display_name": "csci2040",
   "language": "python",
   "name": "python3"
  },
  "language_info": {
   "codemirror_mode": {
    "name": "ipython",
    "version": 3
   },
   "file_extension": ".py",
   "mimetype": "text/x-python",
   "name": "python",
   "nbconvert_exporter": "python",
   "pygments_lexer": "ipython3",
   "version": "3.11.7"
  }
 },
 "nbformat": 4,
 "nbformat_minor": 2
}
