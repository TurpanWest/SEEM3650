{
 "cells": [
  {
   "cell_type": "markdown",
   "metadata": {},
   "source": [
    "This code is used to introduce tool required for this analysis."
   ]
  },
  {
   "cell_type": "code",
   "execution_count": 2,
   "metadata": {},
   "outputs": [],
   "source": [
    "import pandas as pd"
   ]
  },
  {
   "cell_type": "markdown",
   "metadata": {},
   "source": [
    "Load Excel file first, then delete unnecessary columns"
   ]
  },
  {
   "cell_type": "code",
   "execution_count": 6,
   "metadata": {},
   "outputs": [],
   "source": [
    "excel_path = 'dcd_population.xlsx'\n",
    "excel_data = pd.read_excel(excel_path)\n",
    "cleaned_excel_data = excel_data.drop(columns=['Unnamed: 2'])"
   ]
  },
  {
   "cell_type": "markdown",
   "metadata": {},
   "source": [
    "Group by District Council district and calculate the mean and variance of the total population"
   ]
  },
  {
   "cell_type": "code",
   "execution_count": 4,
   "metadata": {},
   "outputs": [],
   "source": [
    "population_stats = cleaned_excel_data.groupby('District Council district (DCD)')['Total population'].agg(['mean', 'var'])"
   ]
  },
  {
   "cell_type": "markdown",
   "metadata": {},
   "source": [
    "Rename the columns to improve readability and place the calculation results into a newly generated file called dcd_population_stats.xlsx"
   ]
  },
  {
   "cell_type": "code",
   "execution_count": 5,
   "metadata": {},
   "outputs": [
    {
     "name": "stdout",
     "output_type": "stream",
     "text": [
      "Results exported to Excel file 'dcd_population_stats.xlsx'.\n"
     ]
    }
   ],
   "source": [
    "population_stats.rename(columns={'mean': 'Average Total Population', 'var': 'Variance in Total Population'}, inplace=True)\n",
    "population_stats.to_excel('population_stats.xlsx', sheet_name='Population Statistics')\n",
    "print(\"Results exported to Excel file 'dcd_population_stats.xlsx'.\")"
   ]
  }
 ],
 "metadata": {
  "kernelspec": {
   "display_name": "csci2040",
   "language": "python",
   "name": "python3"
  },
  "language_info": {
   "codemirror_mode": {
    "name": "ipython",
    "version": 3
   },
   "file_extension": ".py",
   "mimetype": "text/x-python",
   "name": "python",
   "nbconvert_exporter": "python",
   "pygments_lexer": "ipython3",
   "version": "3.11.7"
  }
 },
 "nbformat": 4,
 "nbformat_minor": 2
}
