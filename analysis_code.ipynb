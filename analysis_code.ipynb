{
 "cells": [
  {
   "cell_type": "markdown",
   "metadata": {},
   "source": [
    "This code is used to introduce tool required for this analysis."
   ]
  },
  {
   "cell_type": "code",
   "execution_count": 2,
   "metadata": {},
   "outputs": [],
   "source": [
    "import pandas as pd\n",
    "import matplotlib.pyplot as plt"
   ]
  },
  {
   "cell_type": "markdown",
   "metadata": {},
   "source": [
    "First, we use pandas to calculate the mean and variance of the total population grouped by District Council district."
   ]
  },
  {
   "cell_type": "markdown",
   "metadata": {},
   "source": [
    "Load Excel file first, then delete unnecessary columns."
   ]
  },
  {
   "cell_type": "code",
   "execution_count": 6,
   "metadata": {},
   "outputs": [],
   "source": [
    "excel_path = 'dcd_population.xlsx'\n",
    "excel_data = pd.read_excel(excel_path)\n",
    "cleaned_excel_data = excel_data.drop(columns=['Unnamed: 2'])"
   ]
  },
  {
   "cell_type": "markdown",
   "metadata": {},
   "source": [
    "Group by District Council district and calculate the mean and variance of the total population."
   ]
  },
  {
   "cell_type": "code",
   "execution_count": 4,
   "metadata": {},
   "outputs": [],
   "source": [
    "population_stats = cleaned_excel_data.groupby('District Council district (DCD)')['Total population'].agg(['mean', 'var'])"
   ]
  },
  {
   "cell_type": "markdown",
   "metadata": {},
   "source": [
    "Rename the columns to improve readability and place the calculation results into a newly generated file called dcd_population_stats.xlsx."
   ]
  },
  {
   "cell_type": "code",
   "execution_count": null,
   "metadata": {},
   "outputs": [],
   "source": [
    "population_stats.rename(columns={'mean': 'Average Total Population', 'var': 'Variance in Total Population'}, inplace=True)\n",
    "population_stats.to_excel('population_stats.xlsx', sheet_name='Population Statistics')\n",
    "print(\"Results exported to Excel file 'dcd_population_stats.xlsx'.\")"
   ]
  },
  {
   "cell_type": "markdown",
   "metadata": {},
   "source": [
    "In order to show the changing trend of the population of different DCDs over time, we use the matplotlib to draw line chart."
   ]
  },
  {
   "cell_type": "code",
   "execution_count": null,
   "metadata": {},
   "outputs": [],
   "source": [
    "cleaned_excel_data = cleaned_excel_data[cleaned_excel_data['District Council district (DCD)'] != 'Whole Territory']\n",
    "plt.figure(figsize=(14, 8))\n",
    "for name, group in cleaned_excel_data.groupby('District Council district (DCD)'):\n",
    "    plt.plot(group['Year'], group['Total population'], label=name)\n",
    "\n",
    "plt.xlabel('Year')\n",
    "plt.ylabel('Total Population')\n",
    "plt.title('Population Trends by District Over Years')\n",
    "plt.legend(title='District', bbox_to_anchor=(1.05, 1), loc='upper left')\n",
    "plt.xticks(rotation=45) \n",
    "plt.grid(True)  \n",
    "plt.tight_layout() \n",
    "plt.show()"
   ]
  },
  {
   "cell_type": "markdown",
   "metadata": {},
   "source": [
    "After that, we will calculate the mean and variance grouped by genders."
   ]
  },
  {
   "cell_type": "code",
   "execution_count": null,
   "metadata": {},
   "outputs": [],
   "source": [
    "file_path = 'gender.xlsx'\n",
    "data = pd.read_excel(file_path)\n",
    "grouped_data = data.groupby('Sex')['Population'].agg(['mean', 'var']).reset_index()\n",
    "output_file_path = 'gender_stat.xlsx'\n",
    "grouped_data.to_excel(output_file_path, index=False)"
   ]
  },
  {
   "cell_type": "markdown",
   "metadata": {},
   "source": [
    "Save the calculation result to a file named \"gender_stat.xlsx\"."
   ]
  },
  {
   "cell_type": "code",
   "execution_count": null,
   "metadata": {},
   "outputs": [],
   "source": [
    "print(\"File saved to:\", output_file_path)"
   ]
  },
  {
   "cell_type": "markdown",
   "metadata": {},
   "source": [
    "In order to show the changing trend of the male and female population over time, we use the matplotlib to draw line chart."
   ]
  },
  {
   "cell_type": "code",
   "execution_count": null,
   "metadata": {},
   "outputs": [],
   "source": [
    "data = data[data['Sex'].isin(['Male', 'Female'])]\n",
    "plt.figure(figsize=(14, 8))\n",
    "for sex, group in data.groupby('Sex'):\n",
    "    plt.plot(group['Year'], group['Population'], label=f'{sex}', marker='o') \n",
    "\n",
    "plt.xlabel('Year')\n",
    "plt.ylabel('Population')\n",
    "plt.title('Yearly Population by Sex (Excluding Both Sexes)')\n",
    "plt.legend(title='Sex')\n",
    "plt.xticks(rotation=45)  \n",
    "plt.grid(True)  \n",
    "plt.tight_layout()  \n",
    "plt.show()"
   ]
  },
  {
   "cell_type": "markdown",
   "metadata": {},
   "source": [
    "In the same method, we will calculate the mean and varianve grouped by ages"
   ]
  },
  {
   "cell_type": "code",
   "execution_count": null,
   "metadata": {},
   "outputs": [],
   "source": [
    "data = pd.read_excel('age.xlsx')\n",
    "data = data.drop(columns=['25 - 64'])\n",
    "\n",
    "mean_values = data.mean()\n",
    "variance_values = data.var()\n",
    "print(\"Mean Values:\\n\", mean_values)\n",
    "print(\"\\nVariance Values:\\n\", variance_values)"
   ]
  },
  {
   "cell_type": "markdown",
   "metadata": {},
   "source": [
    "In order to show the changing trends of different age groups over time, we use the matplotlib to draw a line chart."
   ]
  },
  {
   "cell_type": "code",
   "execution_count": null,
   "metadata": {},
   "outputs": [],
   "source": [
    "fig, ax = plt.subplots(figsize=(10, 6))\n",
    "for column in data.columns[1:]: \n",
    "    ax.plot(data['Year'], data[column], label=column)\n",
    "ax.set_xlabel('Year')\n",
    "ax.set_ylabel('Population')\n",
    "ax.set_title('Population by Age Group Over Years')\n",
    "ax.legend()\n",
    "\n",
    "plt.show()"
   ]
  }
 ],
 "metadata": {
  "kernelspec": {
   "display_name": "csci2040",
   "language": "python",
   "name": "python3"
  },
  "language_info": {
   "codemirror_mode": {
    "name": "ipython",
    "version": 3
   },
   "file_extension": ".py",
   "mimetype": "text/x-python",
   "name": "python",
   "nbconvert_exporter": "python",
   "pygments_lexer": "ipython3",
   "version": "3.11.7"
  }
 },
 "nbformat": 4,
 "nbformat_minor": 2
}
